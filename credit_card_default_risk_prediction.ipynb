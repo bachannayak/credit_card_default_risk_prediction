{
  "nbformat": 4,
  "nbformat_minor": 0,
  "metadata": {
    "colab": {
      "name": "credit_card_default_risk_prediction.ipynb",
      "provenance": [],
      "collapsed_sections": []
    },
    "kernelspec": {
      "name": "python3",
      "display_name": "Python 3"
    },
    "language_info": {
      "name": "python"
    }
  },
  "cells": [
    {
      "cell_type": "markdown",
      "metadata": {
        "id": "w-59e1VJvbA6"
      },
      "source": [
        "#Load required Library and module"
      ]
    },
    {
      "cell_type": "code",
      "metadata": {
        "id": "7AkadFUduiKP"
      },
      "source": [
        "import pandas as pd\n",
        "import numpy as np"
      ],
      "execution_count": null,
      "outputs": []
    },
    {
      "cell_type": "markdown",
      "metadata": {
        "id": "Ykew1Ig90Tmk"
      },
      "source": [
        "#Load dataset"
      ]
    },
    {
      "cell_type": "code",
      "metadata": {
        "colab": {
          "base_uri": "https://localhost:8080/",
          "height": 261
        },
        "id": "qxmsNUus0bMR",
        "outputId": "34f2a26b-be08-455f-f4ef-21b8a61c1833"
      },
      "source": [
        "Train_df=pd.read_csv('train.csv')\n",
        "Test_df=pd.read_csv('test.csv')\n",
        "Train_df.head()"
      ],
      "execution_count": null,
      "outputs": [
        {
          "output_type": "execute_result",
          "data": {
            "text/html": [
              "<div>\n",
              "<style scoped>\n",
              "    .dataframe tbody tr th:only-of-type {\n",
              "        vertical-align: middle;\n",
              "    }\n",
              "\n",
              "    .dataframe tbody tr th {\n",
              "        vertical-align: top;\n",
              "    }\n",
              "\n",
              "    .dataframe thead th {\n",
              "        text-align: right;\n",
              "    }\n",
              "</style>\n",
              "<table border=\"1\" class=\"dataframe\">\n",
              "  <thead>\n",
              "    <tr style=\"text-align: right;\">\n",
              "      <th></th>\n",
              "      <th>customer_id</th>\n",
              "      <th>name</th>\n",
              "      <th>age</th>\n",
              "      <th>gender</th>\n",
              "      <th>owns_car</th>\n",
              "      <th>owns_house</th>\n",
              "      <th>no_of_children</th>\n",
              "      <th>net_yearly_income</th>\n",
              "      <th>no_of_days_employed</th>\n",
              "      <th>occupation_type</th>\n",
              "      <th>total_family_members</th>\n",
              "      <th>migrant_worker</th>\n",
              "      <th>yearly_debt_payments</th>\n",
              "      <th>credit_limit</th>\n",
              "      <th>credit_limit_used(%)</th>\n",
              "      <th>credit_score</th>\n",
              "      <th>prev_defaults</th>\n",
              "      <th>default_in_last_6months</th>\n",
              "      <th>credit_card_default</th>\n",
              "    </tr>\n",
              "  </thead>\n",
              "  <tbody>\n",
              "    <tr>\n",
              "      <th>0</th>\n",
              "      <td>CST_115179</td>\n",
              "      <td>ita Bose</td>\n",
              "      <td>46</td>\n",
              "      <td>F</td>\n",
              "      <td>N</td>\n",
              "      <td>Y</td>\n",
              "      <td>0.0</td>\n",
              "      <td>107934.04</td>\n",
              "      <td>612.0</td>\n",
              "      <td>Unknown</td>\n",
              "      <td>1.0</td>\n",
              "      <td>1.0</td>\n",
              "      <td>33070.28</td>\n",
              "      <td>18690.93</td>\n",
              "      <td>73</td>\n",
              "      <td>544.0</td>\n",
              "      <td>2</td>\n",
              "      <td>1</td>\n",
              "      <td>1</td>\n",
              "    </tr>\n",
              "    <tr>\n",
              "      <th>1</th>\n",
              "      <td>CST_121920</td>\n",
              "      <td>Alper Jonathan</td>\n",
              "      <td>29</td>\n",
              "      <td>M</td>\n",
              "      <td>N</td>\n",
              "      <td>Y</td>\n",
              "      <td>0.0</td>\n",
              "      <td>109862.62</td>\n",
              "      <td>2771.0</td>\n",
              "      <td>Laborers</td>\n",
              "      <td>2.0</td>\n",
              "      <td>0.0</td>\n",
              "      <td>15329.53</td>\n",
              "      <td>37745.19</td>\n",
              "      <td>52</td>\n",
              "      <td>857.0</td>\n",
              "      <td>0</td>\n",
              "      <td>0</td>\n",
              "      <td>0</td>\n",
              "    </tr>\n",
              "    <tr>\n",
              "      <th>2</th>\n",
              "      <td>CST_109330</td>\n",
              "      <td>Umesh Desai</td>\n",
              "      <td>37</td>\n",
              "      <td>M</td>\n",
              "      <td>N</td>\n",
              "      <td>Y</td>\n",
              "      <td>0.0</td>\n",
              "      <td>230153.17</td>\n",
              "      <td>204.0</td>\n",
              "      <td>Laborers</td>\n",
              "      <td>2.0</td>\n",
              "      <td>0.0</td>\n",
              "      <td>48416.60</td>\n",
              "      <td>41598.36</td>\n",
              "      <td>43</td>\n",
              "      <td>650.0</td>\n",
              "      <td>0</td>\n",
              "      <td>0</td>\n",
              "      <td>0</td>\n",
              "    </tr>\n",
              "    <tr>\n",
              "      <th>3</th>\n",
              "      <td>CST_128288</td>\n",
              "      <td>Rie</td>\n",
              "      <td>39</td>\n",
              "      <td>F</td>\n",
              "      <td>N</td>\n",
              "      <td>Y</td>\n",
              "      <td>0.0</td>\n",
              "      <td>122325.82</td>\n",
              "      <td>11941.0</td>\n",
              "      <td>Core staff</td>\n",
              "      <td>2.0</td>\n",
              "      <td>0.0</td>\n",
              "      <td>22574.36</td>\n",
              "      <td>32627.76</td>\n",
              "      <td>20</td>\n",
              "      <td>754.0</td>\n",
              "      <td>0</td>\n",
              "      <td>0</td>\n",
              "      <td>0</td>\n",
              "    </tr>\n",
              "    <tr>\n",
              "      <th>4</th>\n",
              "      <td>CST_151355</td>\n",
              "      <td>McCool</td>\n",
              "      <td>46</td>\n",
              "      <td>M</td>\n",
              "      <td>Y</td>\n",
              "      <td>Y</td>\n",
              "      <td>0.0</td>\n",
              "      <td>387286.00</td>\n",
              "      <td>1459.0</td>\n",
              "      <td>Core staff</td>\n",
              "      <td>1.0</td>\n",
              "      <td>0.0</td>\n",
              "      <td>38282.95</td>\n",
              "      <td>52950.64</td>\n",
              "      <td>75</td>\n",
              "      <td>927.0</td>\n",
              "      <td>0</td>\n",
              "      <td>0</td>\n",
              "      <td>0</td>\n",
              "    </tr>\n",
              "  </tbody>\n",
              "</table>\n",
              "</div>"
            ],
            "text/plain": [
              "  customer_id            name  ...  default_in_last_6months credit_card_default\n",
              "0  CST_115179        ita Bose  ...                        1                   1\n",
              "1  CST_121920  Alper Jonathan  ...                        0                   0\n",
              "2  CST_109330     Umesh Desai  ...                        0                   0\n",
              "3  CST_128288             Rie  ...                        0                   0\n",
              "4  CST_151355          McCool  ...                        0                   0\n",
              "\n",
              "[5 rows x 19 columns]"
            ]
          },
          "metadata": {},
          "execution_count": 29
        }
      ]
    },
    {
      "cell_type": "code",
      "metadata": {
        "colab": {
          "base_uri": "https://localhost:8080/"
        },
        "id": "My9FWL1z1X9b",
        "outputId": "81397647-7d0c-4ae9-8c6d-f39c89fde457"
      },
      "source": [
        "Train_df.info()"
      ],
      "execution_count": null,
      "outputs": [
        {
          "output_type": "stream",
          "name": "stdout",
          "text": [
            "<class 'pandas.core.frame.DataFrame'>\n",
            "RangeIndex: 45528 entries, 0 to 45527\n",
            "Data columns (total 19 columns):\n",
            " #   Column                   Non-Null Count  Dtype  \n",
            "---  ------                   --------------  -----  \n",
            " 0   customer_id              45528 non-null  object \n",
            " 1   name                     45528 non-null  object \n",
            " 2   age                      45528 non-null  int64  \n",
            " 3   gender                   45528 non-null  object \n",
            " 4   owns_car                 44981 non-null  object \n",
            " 5   owns_house               45528 non-null  object \n",
            " 6   no_of_children           44754 non-null  float64\n",
            " 7   net_yearly_income        45528 non-null  float64\n",
            " 8   no_of_days_employed      45065 non-null  float64\n",
            " 9   occupation_type          45528 non-null  object \n",
            " 10  total_family_members     45445 non-null  float64\n",
            " 11  migrant_worker           45441 non-null  float64\n",
            " 12  yearly_debt_payments     45433 non-null  float64\n",
            " 13  credit_limit             45528 non-null  float64\n",
            " 14  credit_limit_used(%)     45528 non-null  int64  \n",
            " 15  credit_score             45520 non-null  float64\n",
            " 16  prev_defaults            45528 non-null  int64  \n",
            " 17  default_in_last_6months  45528 non-null  int64  \n",
            " 18  credit_card_default      45528 non-null  int64  \n",
            "dtypes: float64(8), int64(5), object(6)\n",
            "memory usage: 6.6+ MB\n"
          ]
        }
      ]
    },
    {
      "cell_type": "markdown",
      "metadata": {
        "id": "KJP0dOMNDmSE"
      },
      "source": [
        "#Dataset cleaning for Train set"
      ]
    },
    {
      "cell_type": "code",
      "metadata": {
        "id": "M3LKlj8KAUZg"
      },
      "source": [
        "Train_df.drop(columns=['customer_id','name'],axis=1,inplace=True)\n",
        "Test_df.drop(columns=['name'],axis=1,inplace=True)"
      ],
      "execution_count": null,
      "outputs": []
    },
    {
      "cell_type": "code",
      "metadata": {
        "colab": {
          "base_uri": "https://localhost:8080/"
        },
        "id": "NtwWqJRTC3qv",
        "outputId": "b78652c8-0ed1-465d-ac81-ed83999ad54e"
      },
      "source": [
        "Train_df.isnull().sum()"
      ],
      "execution_count": null,
      "outputs": [
        {
          "output_type": "execute_result",
          "data": {
            "text/plain": [
              "age                          0\n",
              "gender                       0\n",
              "owns_car                   547\n",
              "owns_house                   0\n",
              "no_of_children             774\n",
              "net_yearly_income            0\n",
              "no_of_days_employed        463\n",
              "occupation_type              0\n",
              "total_family_members        83\n",
              "migrant_worker              87\n",
              "yearly_debt_payments        95\n",
              "credit_limit                 0\n",
              "credit_limit_used(%)         0\n",
              "credit_score                 8\n",
              "prev_defaults                0\n",
              "default_in_last_6months      0\n",
              "credit_card_default          0\n",
              "dtype: int64"
            ]
          },
          "metadata": {},
          "execution_count": 32
        }
      ]
    },
    {
      "cell_type": "code",
      "metadata": {
        "id": "3_ey_MIZ9RT1"
      },
      "source": [
        "Train_df['credit_score'].replace(np.NaN,Train_df['credit_score'].median(),inplace=True)\n",
        "Train_df['owns_house'].replace({'Y':1,'N':0},inplace=True)\n",
        "Train_df['owns_car'].replace({'Y':1,'N':0},inplace=True)\n"
      ],
      "execution_count": null,
      "outputs": []
    },
    {
      "cell_type": "code",
      "source": [
        "Train_df.fillna(0,inplace=True)"
      ],
      "metadata": {
        "id": "oGf2CtiML0Zq"
      },
      "execution_count": null,
      "outputs": []
    },
    {
      "cell_type": "code",
      "metadata": {
        "colab": {
          "base_uri": "https://localhost:8080/"
        },
        "id": "-E8Nd4bp5Nre",
        "outputId": "9ac5b122-f978-42c6-a032-188474d98530"
      },
      "source": [
        "Train_df.isnull().sum()"
      ],
      "execution_count": null,
      "outputs": [
        {
          "output_type": "execute_result",
          "data": {
            "text/plain": [
              "age                        0\n",
              "gender                     0\n",
              "owns_car                   0\n",
              "owns_house                 0\n",
              "no_of_children             0\n",
              "net_yearly_income          0\n",
              "no_of_days_employed        0\n",
              "occupation_type            0\n",
              "total_family_members       0\n",
              "migrant_worker             0\n",
              "yearly_debt_payments       0\n",
              "credit_limit               0\n",
              "credit_limit_used(%)       0\n",
              "credit_score               0\n",
              "prev_defaults              0\n",
              "default_in_last_6months    0\n",
              "credit_card_default        0\n",
              "dtype: int64"
            ]
          },
          "metadata": {},
          "execution_count": 35
        }
      ]
    },
    {
      "cell_type": "code",
      "metadata": {
        "colab": {
          "base_uri": "https://localhost:8080/",
          "height": 423
        },
        "id": "It3_rMHZTGMW",
        "outputId": "bf1c5b89-a112-44ad-82e1-78189843ba74"
      },
      "source": [
        "#Create a DataFrame containing all the non-numeric type features.\n",
        "Train_category_df=Train_df.select_dtypes(include=['object'])\n",
        "Train_category_df"
      ],
      "execution_count": null,
      "outputs": [
        {
          "output_type": "execute_result",
          "data": {
            "text/html": [
              "<div>\n",
              "<style scoped>\n",
              "    .dataframe tbody tr th:only-of-type {\n",
              "        vertical-align: middle;\n",
              "    }\n",
              "\n",
              "    .dataframe tbody tr th {\n",
              "        vertical-align: top;\n",
              "    }\n",
              "\n",
              "    .dataframe thead th {\n",
              "        text-align: right;\n",
              "    }\n",
              "</style>\n",
              "<table border=\"1\" class=\"dataframe\">\n",
              "  <thead>\n",
              "    <tr style=\"text-align: right;\">\n",
              "      <th></th>\n",
              "      <th>gender</th>\n",
              "      <th>occupation_type</th>\n",
              "    </tr>\n",
              "  </thead>\n",
              "  <tbody>\n",
              "    <tr>\n",
              "      <th>0</th>\n",
              "      <td>F</td>\n",
              "      <td>Unknown</td>\n",
              "    </tr>\n",
              "    <tr>\n",
              "      <th>1</th>\n",
              "      <td>M</td>\n",
              "      <td>Laborers</td>\n",
              "    </tr>\n",
              "    <tr>\n",
              "      <th>2</th>\n",
              "      <td>M</td>\n",
              "      <td>Laborers</td>\n",
              "    </tr>\n",
              "    <tr>\n",
              "      <th>3</th>\n",
              "      <td>F</td>\n",
              "      <td>Core staff</td>\n",
              "    </tr>\n",
              "    <tr>\n",
              "      <th>4</th>\n",
              "      <td>M</td>\n",
              "      <td>Core staff</td>\n",
              "    </tr>\n",
              "    <tr>\n",
              "      <th>...</th>\n",
              "      <td>...</td>\n",
              "      <td>...</td>\n",
              "    </tr>\n",
              "    <tr>\n",
              "      <th>45523</th>\n",
              "      <td>F</td>\n",
              "      <td>Unknown</td>\n",
              "    </tr>\n",
              "    <tr>\n",
              "      <th>45524</th>\n",
              "      <td>F</td>\n",
              "      <td>Accountants</td>\n",
              "    </tr>\n",
              "    <tr>\n",
              "      <th>45525</th>\n",
              "      <td>F</td>\n",
              "      <td>Core staff</td>\n",
              "    </tr>\n",
              "    <tr>\n",
              "      <th>45526</th>\n",
              "      <td>M</td>\n",
              "      <td>Laborers</td>\n",
              "    </tr>\n",
              "    <tr>\n",
              "      <th>45527</th>\n",
              "      <td>M</td>\n",
              "      <td>Unknown</td>\n",
              "    </tr>\n",
              "  </tbody>\n",
              "</table>\n",
              "<p>45528 rows × 2 columns</p>\n",
              "</div>"
            ],
            "text/plain": [
              "      gender occupation_type\n",
              "0          F         Unknown\n",
              "1          M        Laborers\n",
              "2          M        Laborers\n",
              "3          F      Core staff\n",
              "4          M      Core staff\n",
              "...      ...             ...\n",
              "45523      F         Unknown\n",
              "45524      F     Accountants\n",
              "45525      F      Core staff\n",
              "45526      M        Laborers\n",
              "45527      M         Unknown\n",
              "\n",
              "[45528 rows x 2 columns]"
            ]
          },
          "metadata": {},
          "execution_count": 36
        }
      ]
    },
    {
      "cell_type": "code",
      "metadata": {
        "colab": {
          "base_uri": "https://localhost:8080/"
        },
        "id": "YkKzrbfBHoIF",
        "outputId": "992dec73-10d3-4907-8b64-d8d41fcad8e6"
      },
      "source": [
        "Train_dummy_df=pd.get_dummies(Train_df[Train_category_df.keys()],drop_first=True,dtype=int)\n",
        "len(Train_dummy_df.keys())"
      ],
      "execution_count": null,
      "outputs": [
        {
          "output_type": "execute_result",
          "data": {
            "text/plain": [
              "20"
            ]
          },
          "metadata": {},
          "execution_count": 37
        }
      ]
    },
    {
      "cell_type": "code",
      "metadata": {
        "id": "7a_RWaRs5rfN"
      },
      "source": [
        "Train_df.drop(columns=Train_category_df.keys(),axis=1,inplace=True)"
      ],
      "execution_count": null,
      "outputs": []
    },
    {
      "cell_type": "code",
      "metadata": {
        "colab": {
          "base_uri": "https://localhost:8080/",
          "height": 243
        },
        "id": "93_mi5uo1c2O",
        "outputId": "af312397-95b7-4d32-eef1-0825e9d68b38"
      },
      "source": [
        "Train_df2=pd.concat([Train_df,Train_dummy_df],axis=1)\n",
        "Train_df2.head()"
      ],
      "execution_count": null,
      "outputs": [
        {
          "output_type": "execute_result",
          "data": {
            "text/html": [
              "<div>\n",
              "<style scoped>\n",
              "    .dataframe tbody tr th:only-of-type {\n",
              "        vertical-align: middle;\n",
              "    }\n",
              "\n",
              "    .dataframe tbody tr th {\n",
              "        vertical-align: top;\n",
              "    }\n",
              "\n",
              "    .dataframe thead th {\n",
              "        text-align: right;\n",
              "    }\n",
              "</style>\n",
              "<table border=\"1\" class=\"dataframe\">\n",
              "  <thead>\n",
              "    <tr style=\"text-align: right;\">\n",
              "      <th></th>\n",
              "      <th>age</th>\n",
              "      <th>owns_car</th>\n",
              "      <th>owns_house</th>\n",
              "      <th>no_of_children</th>\n",
              "      <th>net_yearly_income</th>\n",
              "      <th>no_of_days_employed</th>\n",
              "      <th>total_family_members</th>\n",
              "      <th>migrant_worker</th>\n",
              "      <th>yearly_debt_payments</th>\n",
              "      <th>credit_limit</th>\n",
              "      <th>credit_limit_used(%)</th>\n",
              "      <th>credit_score</th>\n",
              "      <th>prev_defaults</th>\n",
              "      <th>default_in_last_6months</th>\n",
              "      <th>credit_card_default</th>\n",
              "      <th>gender_M</th>\n",
              "      <th>gender_XNA</th>\n",
              "      <th>occupation_type_Cleaning staff</th>\n",
              "      <th>occupation_type_Cooking staff</th>\n",
              "      <th>occupation_type_Core staff</th>\n",
              "      <th>occupation_type_Drivers</th>\n",
              "      <th>occupation_type_HR staff</th>\n",
              "      <th>occupation_type_High skill tech staff</th>\n",
              "      <th>occupation_type_IT staff</th>\n",
              "      <th>occupation_type_Laborers</th>\n",
              "      <th>occupation_type_Low-skill Laborers</th>\n",
              "      <th>occupation_type_Managers</th>\n",
              "      <th>occupation_type_Medicine staff</th>\n",
              "      <th>occupation_type_Private service staff</th>\n",
              "      <th>occupation_type_Realty agents</th>\n",
              "      <th>occupation_type_Sales staff</th>\n",
              "      <th>occupation_type_Secretaries</th>\n",
              "      <th>occupation_type_Security staff</th>\n",
              "      <th>occupation_type_Unknown</th>\n",
              "      <th>occupation_type_Waiters/barmen staff</th>\n",
              "    </tr>\n",
              "  </thead>\n",
              "  <tbody>\n",
              "    <tr>\n",
              "      <th>0</th>\n",
              "      <td>46</td>\n",
              "      <td>0.0</td>\n",
              "      <td>1</td>\n",
              "      <td>0.0</td>\n",
              "      <td>107934.04</td>\n",
              "      <td>612.0</td>\n",
              "      <td>1.0</td>\n",
              "      <td>1.0</td>\n",
              "      <td>33070.28</td>\n",
              "      <td>18690.93</td>\n",
              "      <td>73</td>\n",
              "      <td>544.0</td>\n",
              "      <td>2</td>\n",
              "      <td>1</td>\n",
              "      <td>1</td>\n",
              "      <td>0</td>\n",
              "      <td>0</td>\n",
              "      <td>0</td>\n",
              "      <td>0</td>\n",
              "      <td>0</td>\n",
              "      <td>0</td>\n",
              "      <td>0</td>\n",
              "      <td>0</td>\n",
              "      <td>0</td>\n",
              "      <td>0</td>\n",
              "      <td>0</td>\n",
              "      <td>0</td>\n",
              "      <td>0</td>\n",
              "      <td>0</td>\n",
              "      <td>0</td>\n",
              "      <td>0</td>\n",
              "      <td>0</td>\n",
              "      <td>0</td>\n",
              "      <td>1</td>\n",
              "      <td>0</td>\n",
              "    </tr>\n",
              "    <tr>\n",
              "      <th>1</th>\n",
              "      <td>29</td>\n",
              "      <td>0.0</td>\n",
              "      <td>1</td>\n",
              "      <td>0.0</td>\n",
              "      <td>109862.62</td>\n",
              "      <td>2771.0</td>\n",
              "      <td>2.0</td>\n",
              "      <td>0.0</td>\n",
              "      <td>15329.53</td>\n",
              "      <td>37745.19</td>\n",
              "      <td>52</td>\n",
              "      <td>857.0</td>\n",
              "      <td>0</td>\n",
              "      <td>0</td>\n",
              "      <td>0</td>\n",
              "      <td>1</td>\n",
              "      <td>0</td>\n",
              "      <td>0</td>\n",
              "      <td>0</td>\n",
              "      <td>0</td>\n",
              "      <td>0</td>\n",
              "      <td>0</td>\n",
              "      <td>0</td>\n",
              "      <td>0</td>\n",
              "      <td>1</td>\n",
              "      <td>0</td>\n",
              "      <td>0</td>\n",
              "      <td>0</td>\n",
              "      <td>0</td>\n",
              "      <td>0</td>\n",
              "      <td>0</td>\n",
              "      <td>0</td>\n",
              "      <td>0</td>\n",
              "      <td>0</td>\n",
              "      <td>0</td>\n",
              "    </tr>\n",
              "    <tr>\n",
              "      <th>2</th>\n",
              "      <td>37</td>\n",
              "      <td>0.0</td>\n",
              "      <td>1</td>\n",
              "      <td>0.0</td>\n",
              "      <td>230153.17</td>\n",
              "      <td>204.0</td>\n",
              "      <td>2.0</td>\n",
              "      <td>0.0</td>\n",
              "      <td>48416.60</td>\n",
              "      <td>41598.36</td>\n",
              "      <td>43</td>\n",
              "      <td>650.0</td>\n",
              "      <td>0</td>\n",
              "      <td>0</td>\n",
              "      <td>0</td>\n",
              "      <td>1</td>\n",
              "      <td>0</td>\n",
              "      <td>0</td>\n",
              "      <td>0</td>\n",
              "      <td>0</td>\n",
              "      <td>0</td>\n",
              "      <td>0</td>\n",
              "      <td>0</td>\n",
              "      <td>0</td>\n",
              "      <td>1</td>\n",
              "      <td>0</td>\n",
              "      <td>0</td>\n",
              "      <td>0</td>\n",
              "      <td>0</td>\n",
              "      <td>0</td>\n",
              "      <td>0</td>\n",
              "      <td>0</td>\n",
              "      <td>0</td>\n",
              "      <td>0</td>\n",
              "      <td>0</td>\n",
              "    </tr>\n",
              "    <tr>\n",
              "      <th>3</th>\n",
              "      <td>39</td>\n",
              "      <td>0.0</td>\n",
              "      <td>1</td>\n",
              "      <td>0.0</td>\n",
              "      <td>122325.82</td>\n",
              "      <td>11941.0</td>\n",
              "      <td>2.0</td>\n",
              "      <td>0.0</td>\n",
              "      <td>22574.36</td>\n",
              "      <td>32627.76</td>\n",
              "      <td>20</td>\n",
              "      <td>754.0</td>\n",
              "      <td>0</td>\n",
              "      <td>0</td>\n",
              "      <td>0</td>\n",
              "      <td>0</td>\n",
              "      <td>0</td>\n",
              "      <td>0</td>\n",
              "      <td>0</td>\n",
              "      <td>1</td>\n",
              "      <td>0</td>\n",
              "      <td>0</td>\n",
              "      <td>0</td>\n",
              "      <td>0</td>\n",
              "      <td>0</td>\n",
              "      <td>0</td>\n",
              "      <td>0</td>\n",
              "      <td>0</td>\n",
              "      <td>0</td>\n",
              "      <td>0</td>\n",
              "      <td>0</td>\n",
              "      <td>0</td>\n",
              "      <td>0</td>\n",
              "      <td>0</td>\n",
              "      <td>0</td>\n",
              "    </tr>\n",
              "    <tr>\n",
              "      <th>4</th>\n",
              "      <td>46</td>\n",
              "      <td>1.0</td>\n",
              "      <td>1</td>\n",
              "      <td>0.0</td>\n",
              "      <td>387286.00</td>\n",
              "      <td>1459.0</td>\n",
              "      <td>1.0</td>\n",
              "      <td>0.0</td>\n",
              "      <td>38282.95</td>\n",
              "      <td>52950.64</td>\n",
              "      <td>75</td>\n",
              "      <td>927.0</td>\n",
              "      <td>0</td>\n",
              "      <td>0</td>\n",
              "      <td>0</td>\n",
              "      <td>1</td>\n",
              "      <td>0</td>\n",
              "      <td>0</td>\n",
              "      <td>0</td>\n",
              "      <td>1</td>\n",
              "      <td>0</td>\n",
              "      <td>0</td>\n",
              "      <td>0</td>\n",
              "      <td>0</td>\n",
              "      <td>0</td>\n",
              "      <td>0</td>\n",
              "      <td>0</td>\n",
              "      <td>0</td>\n",
              "      <td>0</td>\n",
              "      <td>0</td>\n",
              "      <td>0</td>\n",
              "      <td>0</td>\n",
              "      <td>0</td>\n",
              "      <td>0</td>\n",
              "      <td>0</td>\n",
              "    </tr>\n",
              "  </tbody>\n",
              "</table>\n",
              "</div>"
            ],
            "text/plain": [
              "   age  owns_car  ...  occupation_type_Unknown  occupation_type_Waiters/barmen staff\n",
              "0   46       0.0  ...                        1                                     0\n",
              "1   29       0.0  ...                        0                                     0\n",
              "2   37       0.0  ...                        0                                     0\n",
              "3   39       0.0  ...                        0                                     0\n",
              "4   46       1.0  ...                        0                                     0\n",
              "\n",
              "[5 rows x 35 columns]"
            ]
          },
          "metadata": {},
          "execution_count": 39
        }
      ]
    },
    {
      "cell_type": "code",
      "metadata": {
        "id": "Ht29KEhnCxQ1"
      },
      "source": [
        "features_list=list(Train_df2.columns)\n",
        "features_list.remove('credit_card_default')\n",
        "\n"
      ],
      "execution_count": null,
      "outputs": []
    },
    {
      "cell_type": "markdown",
      "metadata": {
        "id": "tDkRJE0ygtMJ"
      },
      "source": [
        "#Dataset Cleaning for Test set"
      ]
    },
    {
      "cell_type": "code",
      "metadata": {
        "colab": {
          "base_uri": "https://localhost:8080/",
          "height": 226
        },
        "id": "xQfVK1Ex2Cxn",
        "outputId": "68adbf10-9c2e-4bdc-ef8d-33dcca6adb1f"
      },
      "source": [
        "Test_df.head()"
      ],
      "execution_count": null,
      "outputs": [
        {
          "output_type": "execute_result",
          "data": {
            "text/html": [
              "<div>\n",
              "<style scoped>\n",
              "    .dataframe tbody tr th:only-of-type {\n",
              "        vertical-align: middle;\n",
              "    }\n",
              "\n",
              "    .dataframe tbody tr th {\n",
              "        vertical-align: top;\n",
              "    }\n",
              "\n",
              "    .dataframe thead th {\n",
              "        text-align: right;\n",
              "    }\n",
              "</style>\n",
              "<table border=\"1\" class=\"dataframe\">\n",
              "  <thead>\n",
              "    <tr style=\"text-align: right;\">\n",
              "      <th></th>\n",
              "      <th>customer_id</th>\n",
              "      <th>age</th>\n",
              "      <th>gender</th>\n",
              "      <th>owns_car</th>\n",
              "      <th>owns_house</th>\n",
              "      <th>no_of_children</th>\n",
              "      <th>net_yearly_income</th>\n",
              "      <th>no_of_days_employed</th>\n",
              "      <th>occupation_type</th>\n",
              "      <th>total_family_members</th>\n",
              "      <th>migrant_worker</th>\n",
              "      <th>yearly_debt_payments</th>\n",
              "      <th>credit_limit</th>\n",
              "      <th>credit_limit_used(%)</th>\n",
              "      <th>credit_score</th>\n",
              "      <th>prev_defaults</th>\n",
              "      <th>default_in_last_6months</th>\n",
              "    </tr>\n",
              "  </thead>\n",
              "  <tbody>\n",
              "    <tr>\n",
              "      <th>0</th>\n",
              "      <td>CST_142525</td>\n",
              "      <td>52</td>\n",
              "      <td>F</td>\n",
              "      <td>Y</td>\n",
              "      <td>N</td>\n",
              "      <td>0.0</td>\n",
              "      <td>232640.53</td>\n",
              "      <td>998.0</td>\n",
              "      <td>Unknown</td>\n",
              "      <td>2.0</td>\n",
              "      <td>0.0</td>\n",
              "      <td>14406.73</td>\n",
              "      <td>26524.40</td>\n",
              "      <td>4</td>\n",
              "      <td>779.0</td>\n",
              "      <td>0</td>\n",
              "      <td>0</td>\n",
              "    </tr>\n",
              "    <tr>\n",
              "      <th>1</th>\n",
              "      <td>CST_129215</td>\n",
              "      <td>48</td>\n",
              "      <td>F</td>\n",
              "      <td>N</td>\n",
              "      <td>N</td>\n",
              "      <td>1.0</td>\n",
              "      <td>284396.79</td>\n",
              "      <td>1338.0</td>\n",
              "      <td>Unknown</td>\n",
              "      <td>3.0</td>\n",
              "      <td>0.0</td>\n",
              "      <td>57479.99</td>\n",
              "      <td>68998.72</td>\n",
              "      <td>70</td>\n",
              "      <td>806.0</td>\n",
              "      <td>0</td>\n",
              "      <td>0</td>\n",
              "    </tr>\n",
              "    <tr>\n",
              "      <th>2</th>\n",
              "      <td>CST_138443</td>\n",
              "      <td>50</td>\n",
              "      <td>F</td>\n",
              "      <td>N</td>\n",
              "      <td>N</td>\n",
              "      <td>1.0</td>\n",
              "      <td>149419.28</td>\n",
              "      <td>1210.0</td>\n",
              "      <td>Unknown</td>\n",
              "      <td>3.0</td>\n",
              "      <td>0.0</td>\n",
              "      <td>21611.01</td>\n",
              "      <td>25187.80</td>\n",
              "      <td>71</td>\n",
              "      <td>528.0</td>\n",
              "      <td>2</td>\n",
              "      <td>0</td>\n",
              "    </tr>\n",
              "    <tr>\n",
              "      <th>3</th>\n",
              "      <td>CST_123812</td>\n",
              "      <td>30</td>\n",
              "      <td>F</td>\n",
              "      <td>N</td>\n",
              "      <td>N</td>\n",
              "      <td>1.0</td>\n",
              "      <td>160437.54</td>\n",
              "      <td>503.0</td>\n",
              "      <td>Laborers</td>\n",
              "      <td>2.0</td>\n",
              "      <td>1.0</td>\n",
              "      <td>28990.76</td>\n",
              "      <td>29179.39</td>\n",
              "      <td>9</td>\n",
              "      <td>815.0</td>\n",
              "      <td>0</td>\n",
              "      <td>0</td>\n",
              "    </tr>\n",
              "    <tr>\n",
              "      <th>4</th>\n",
              "      <td>CST_144450</td>\n",
              "      <td>52</td>\n",
              "      <td>M</td>\n",
              "      <td>N</td>\n",
              "      <td>Y</td>\n",
              "      <td>0.0</td>\n",
              "      <td>233480.37</td>\n",
              "      <td>157.0</td>\n",
              "      <td>Laborers</td>\n",
              "      <td>2.0</td>\n",
              "      <td>1.0</td>\n",
              "      <td>54213.72</td>\n",
              "      <td>82331.82</td>\n",
              "      <td>82</td>\n",
              "      <td>613.0</td>\n",
              "      <td>1</td>\n",
              "      <td>1</td>\n",
              "    </tr>\n",
              "  </tbody>\n",
              "</table>\n",
              "</div>"
            ],
            "text/plain": [
              "  customer_id  age gender  ... credit_score prev_defaults  default_in_last_6months\n",
              "0  CST_142525   52      F  ...        779.0             0                        0\n",
              "1  CST_129215   48      F  ...        806.0             0                        0\n",
              "2  CST_138443   50      F  ...        528.0             2                        0\n",
              "3  CST_123812   30      F  ...        815.0             0                        0\n",
              "4  CST_144450   52      M  ...        613.0             1                        1\n",
              "\n",
              "[5 rows x 17 columns]"
            ]
          },
          "metadata": {},
          "execution_count": 41
        }
      ]
    },
    {
      "cell_type": "code",
      "metadata": {
        "colab": {
          "base_uri": "https://localhost:8080/"
        },
        "id": "XZzxyiDFg8zs",
        "outputId": "79da849e-6cd5-4dd7-e81f-8a31c5688592"
      },
      "source": [
        "Test_df.info()"
      ],
      "execution_count": null,
      "outputs": [
        {
          "output_type": "stream",
          "name": "stdout",
          "text": [
            "<class 'pandas.core.frame.DataFrame'>\n",
            "RangeIndex: 11383 entries, 0 to 11382\n",
            "Data columns (total 17 columns):\n",
            " #   Column                   Non-Null Count  Dtype  \n",
            "---  ------                   --------------  -----  \n",
            " 0   customer_id              11383 non-null  object \n",
            " 1   age                      11383 non-null  int64  \n",
            " 2   gender                   11383 non-null  object \n",
            " 3   owns_car                 11251 non-null  object \n",
            " 4   owns_house               11383 non-null  object \n",
            " 5   no_of_children           11193 non-null  float64\n",
            " 6   net_yearly_income        11383 non-null  float64\n",
            " 7   no_of_days_employed      11278 non-null  float64\n",
            " 8   occupation_type          11383 non-null  object \n",
            " 9   total_family_members     11352 non-null  float64\n",
            " 10  migrant_worker           11357 non-null  float64\n",
            " 11  yearly_debt_payments     11361 non-null  float64\n",
            " 12  credit_limit             11383 non-null  float64\n",
            " 13  credit_limit_used(%)     11383 non-null  int64  \n",
            " 14  credit_score             11380 non-null  float64\n",
            " 15  prev_defaults            11383 non-null  int64  \n",
            " 16  default_in_last_6months  11383 non-null  int64  \n",
            "dtypes: float64(8), int64(4), object(5)\n",
            "memory usage: 1.5+ MB\n"
          ]
        }
      ]
    },
    {
      "cell_type": "code",
      "metadata": {
        "colab": {
          "base_uri": "https://localhost:8080/"
        },
        "id": "nLmF8fYShFMo",
        "outputId": "4a4d64f9-d7d9-4a75-f2ff-a9d7ababb47b"
      },
      "source": [
        "Test_df.isnull().sum()"
      ],
      "execution_count": null,
      "outputs": [
        {
          "output_type": "execute_result",
          "data": {
            "text/plain": [
              "customer_id                  0\n",
              "age                          0\n",
              "gender                       0\n",
              "owns_car                   132\n",
              "owns_house                   0\n",
              "no_of_children             190\n",
              "net_yearly_income            0\n",
              "no_of_days_employed        105\n",
              "occupation_type              0\n",
              "total_family_members        31\n",
              "migrant_worker              26\n",
              "yearly_debt_payments        22\n",
              "credit_limit                 0\n",
              "credit_limit_used(%)         0\n",
              "credit_score                 3\n",
              "prev_defaults                0\n",
              "default_in_last_6months      0\n",
              "dtype: int64"
            ]
          },
          "metadata": {},
          "execution_count": 44
        }
      ]
    },
    {
      "cell_type": "code",
      "metadata": {
        "id": "IwMPAG_JhKwa"
      },
      "source": [
        "Test_df['credit_score'].replace(np.NaN,Test_df['credit_score'].median(),inplace=True)\n",
        "Test_df['owns_house'].replace({'Y':1,'N':0},inplace=True)\n",
        "Test_df['owns_car'].replace({'Y':1,'N':0},inplace=True)\n"
      ],
      "execution_count": null,
      "outputs": []
    },
    {
      "cell_type": "code",
      "source": [
        "Test_df.fillna(0,inplace=True)"
      ],
      "metadata": {
        "id": "vQf8qV05NzLA"
      },
      "execution_count": null,
      "outputs": []
    },
    {
      "cell_type": "code",
      "metadata": {
        "colab": {
          "base_uri": "https://localhost:8080/"
        },
        "id": "HEPPZfcZh0gO",
        "outputId": "6f3081bc-ceb7-4296-9ddd-feefb85de86b"
      },
      "source": [
        "Test_df.isnull().sum()"
      ],
      "execution_count": null,
      "outputs": [
        {
          "output_type": "execute_result",
          "data": {
            "text/plain": [
              "customer_id                0\n",
              "age                        0\n",
              "gender                     0\n",
              "owns_car                   0\n",
              "owns_house                 0\n",
              "no_of_children             0\n",
              "net_yearly_income          0\n",
              "no_of_days_employed        0\n",
              "occupation_type            0\n",
              "total_family_members       0\n",
              "migrant_worker             0\n",
              "yearly_debt_payments       0\n",
              "credit_limit               0\n",
              "credit_limit_used(%)       0\n",
              "credit_score               0\n",
              "prev_defaults              0\n",
              "default_in_last_6months    0\n",
              "dtype: int64"
            ]
          },
          "metadata": {},
          "execution_count": 47
        }
      ]
    },
    {
      "cell_type": "code",
      "metadata": {
        "colab": {
          "base_uri": "https://localhost:8080/",
          "height": 423
        },
        "id": "ajsJqS8PicHe",
        "outputId": "1a2bbca0-edbf-48ee-ea7f-920a2c070138"
      },
      "source": [
        "Test_category_df=Test_df.select_dtypes(include=['object'])\n",
        "Test_category_df"
      ],
      "execution_count": null,
      "outputs": [
        {
          "output_type": "execute_result",
          "data": {
            "text/html": [
              "<div>\n",
              "<style scoped>\n",
              "    .dataframe tbody tr th:only-of-type {\n",
              "        vertical-align: middle;\n",
              "    }\n",
              "\n",
              "    .dataframe tbody tr th {\n",
              "        vertical-align: top;\n",
              "    }\n",
              "\n",
              "    .dataframe thead th {\n",
              "        text-align: right;\n",
              "    }\n",
              "</style>\n",
              "<table border=\"1\" class=\"dataframe\">\n",
              "  <thead>\n",
              "    <tr style=\"text-align: right;\">\n",
              "      <th></th>\n",
              "      <th>customer_id</th>\n",
              "      <th>gender</th>\n",
              "      <th>occupation_type</th>\n",
              "    </tr>\n",
              "  </thead>\n",
              "  <tbody>\n",
              "    <tr>\n",
              "      <th>0</th>\n",
              "      <td>CST_142525</td>\n",
              "      <td>F</td>\n",
              "      <td>Unknown</td>\n",
              "    </tr>\n",
              "    <tr>\n",
              "      <th>1</th>\n",
              "      <td>CST_129215</td>\n",
              "      <td>F</td>\n",
              "      <td>Unknown</td>\n",
              "    </tr>\n",
              "    <tr>\n",
              "      <th>2</th>\n",
              "      <td>CST_138443</td>\n",
              "      <td>F</td>\n",
              "      <td>Unknown</td>\n",
              "    </tr>\n",
              "    <tr>\n",
              "      <th>3</th>\n",
              "      <td>CST_123812</td>\n",
              "      <td>F</td>\n",
              "      <td>Laborers</td>\n",
              "    </tr>\n",
              "    <tr>\n",
              "      <th>4</th>\n",
              "      <td>CST_144450</td>\n",
              "      <td>M</td>\n",
              "      <td>Laborers</td>\n",
              "    </tr>\n",
              "    <tr>\n",
              "      <th>...</th>\n",
              "      <td>...</td>\n",
              "      <td>...</td>\n",
              "      <td>...</td>\n",
              "    </tr>\n",
              "    <tr>\n",
              "      <th>11378</th>\n",
              "      <td>CST_142412</td>\n",
              "      <td>F</td>\n",
              "      <td>Sales staff</td>\n",
              "    </tr>\n",
              "    <tr>\n",
              "      <th>11379</th>\n",
              "      <td>CST_107967</td>\n",
              "      <td>F</td>\n",
              "      <td>Unknown</td>\n",
              "    </tr>\n",
              "    <tr>\n",
              "      <th>11380</th>\n",
              "      <td>CST_134002</td>\n",
              "      <td>M</td>\n",
              "      <td>Laborers</td>\n",
              "    </tr>\n",
              "    <tr>\n",
              "      <th>11381</th>\n",
              "      <td>CST_146856</td>\n",
              "      <td>F</td>\n",
              "      <td>Medicine staff</td>\n",
              "    </tr>\n",
              "    <tr>\n",
              "      <th>11382</th>\n",
              "      <td>CST_112001</td>\n",
              "      <td>F</td>\n",
              "      <td>Medicine staff</td>\n",
              "    </tr>\n",
              "  </tbody>\n",
              "</table>\n",
              "<p>11383 rows × 3 columns</p>\n",
              "</div>"
            ],
            "text/plain": [
              "      customer_id gender occupation_type\n",
              "0      CST_142525      F         Unknown\n",
              "1      CST_129215      F         Unknown\n",
              "2      CST_138443      F         Unknown\n",
              "3      CST_123812      F        Laborers\n",
              "4      CST_144450      M        Laborers\n",
              "...           ...    ...             ...\n",
              "11378  CST_142412      F     Sales staff\n",
              "11379  CST_107967      F         Unknown\n",
              "11380  CST_134002      M        Laborers\n",
              "11381  CST_146856      F  Medicine staff\n",
              "11382  CST_112001      F  Medicine staff\n",
              "\n",
              "[11383 rows x 3 columns]"
            ]
          },
          "metadata": {},
          "execution_count": 48
        }
      ]
    },
    {
      "cell_type": "code",
      "metadata": {
        "colab": {
          "base_uri": "https://localhost:8080/"
        },
        "id": "gr8nqZjCikow",
        "outputId": "98e6d1e3-0c42-4ae0-b37c-7253e2c14418"
      },
      "source": [
        "Test_dummy_df=pd.get_dummies(Test_df[Test_category_df.keys()[1:]],drop_first=True,dtype=int)\n",
        "len(Test_dummy_df.keys())"
      ],
      "execution_count": null,
      "outputs": [
        {
          "output_type": "execute_result",
          "data": {
            "text/plain": [
              "20"
            ]
          },
          "metadata": {},
          "execution_count": 49
        }
      ]
    },
    {
      "cell_type": "code",
      "metadata": {
        "id": "ZbdLDccejhXV"
      },
      "source": [
        "Test_df.drop(columns=Test_category_df.keys()[1:],axis=1,inplace=True)"
      ],
      "execution_count": null,
      "outputs": []
    },
    {
      "cell_type": "code",
      "metadata": {
        "colab": {
          "base_uri": "https://localhost:8080/",
          "height": 243
        },
        "id": "8wumqXBYjqYU",
        "outputId": "c613c513-927c-4882-dc8f-6a84c73e4375"
      },
      "source": [
        "Test_df2=pd.concat([Test_df,Test_dummy_df],axis=1)\n",
        "Test_df2.head()"
      ],
      "execution_count": null,
      "outputs": [
        {
          "output_type": "execute_result",
          "data": {
            "text/html": [
              "<div>\n",
              "<style scoped>\n",
              "    .dataframe tbody tr th:only-of-type {\n",
              "        vertical-align: middle;\n",
              "    }\n",
              "\n",
              "    .dataframe tbody tr th {\n",
              "        vertical-align: top;\n",
              "    }\n",
              "\n",
              "    .dataframe thead th {\n",
              "        text-align: right;\n",
              "    }\n",
              "</style>\n",
              "<table border=\"1\" class=\"dataframe\">\n",
              "  <thead>\n",
              "    <tr style=\"text-align: right;\">\n",
              "      <th></th>\n",
              "      <th>customer_id</th>\n",
              "      <th>age</th>\n",
              "      <th>owns_car</th>\n",
              "      <th>owns_house</th>\n",
              "      <th>no_of_children</th>\n",
              "      <th>net_yearly_income</th>\n",
              "      <th>no_of_days_employed</th>\n",
              "      <th>total_family_members</th>\n",
              "      <th>migrant_worker</th>\n",
              "      <th>yearly_debt_payments</th>\n",
              "      <th>credit_limit</th>\n",
              "      <th>credit_limit_used(%)</th>\n",
              "      <th>credit_score</th>\n",
              "      <th>prev_defaults</th>\n",
              "      <th>default_in_last_6months</th>\n",
              "      <th>gender_M</th>\n",
              "      <th>gender_XNA</th>\n",
              "      <th>occupation_type_Cleaning staff</th>\n",
              "      <th>occupation_type_Cooking staff</th>\n",
              "      <th>occupation_type_Core staff</th>\n",
              "      <th>occupation_type_Drivers</th>\n",
              "      <th>occupation_type_HR staff</th>\n",
              "      <th>occupation_type_High skill tech staff</th>\n",
              "      <th>occupation_type_IT staff</th>\n",
              "      <th>occupation_type_Laborers</th>\n",
              "      <th>occupation_type_Low-skill Laborers</th>\n",
              "      <th>occupation_type_Managers</th>\n",
              "      <th>occupation_type_Medicine staff</th>\n",
              "      <th>occupation_type_Private service staff</th>\n",
              "      <th>occupation_type_Realty agents</th>\n",
              "      <th>occupation_type_Sales staff</th>\n",
              "      <th>occupation_type_Secretaries</th>\n",
              "      <th>occupation_type_Security staff</th>\n",
              "      <th>occupation_type_Unknown</th>\n",
              "      <th>occupation_type_Waiters/barmen staff</th>\n",
              "    </tr>\n",
              "  </thead>\n",
              "  <tbody>\n",
              "    <tr>\n",
              "      <th>0</th>\n",
              "      <td>CST_142525</td>\n",
              "      <td>52</td>\n",
              "      <td>1.0</td>\n",
              "      <td>0</td>\n",
              "      <td>0.0</td>\n",
              "      <td>232640.53</td>\n",
              "      <td>998.0</td>\n",
              "      <td>2.0</td>\n",
              "      <td>0.0</td>\n",
              "      <td>14406.73</td>\n",
              "      <td>26524.40</td>\n",
              "      <td>4</td>\n",
              "      <td>779.0</td>\n",
              "      <td>0</td>\n",
              "      <td>0</td>\n",
              "      <td>0</td>\n",
              "      <td>0</td>\n",
              "      <td>0</td>\n",
              "      <td>0</td>\n",
              "      <td>0</td>\n",
              "      <td>0</td>\n",
              "      <td>0</td>\n",
              "      <td>0</td>\n",
              "      <td>0</td>\n",
              "      <td>0</td>\n",
              "      <td>0</td>\n",
              "      <td>0</td>\n",
              "      <td>0</td>\n",
              "      <td>0</td>\n",
              "      <td>0</td>\n",
              "      <td>0</td>\n",
              "      <td>0</td>\n",
              "      <td>0</td>\n",
              "      <td>1</td>\n",
              "      <td>0</td>\n",
              "    </tr>\n",
              "    <tr>\n",
              "      <th>1</th>\n",
              "      <td>CST_129215</td>\n",
              "      <td>48</td>\n",
              "      <td>0.0</td>\n",
              "      <td>0</td>\n",
              "      <td>1.0</td>\n",
              "      <td>284396.79</td>\n",
              "      <td>1338.0</td>\n",
              "      <td>3.0</td>\n",
              "      <td>0.0</td>\n",
              "      <td>57479.99</td>\n",
              "      <td>68998.72</td>\n",
              "      <td>70</td>\n",
              "      <td>806.0</td>\n",
              "      <td>0</td>\n",
              "      <td>0</td>\n",
              "      <td>0</td>\n",
              "      <td>0</td>\n",
              "      <td>0</td>\n",
              "      <td>0</td>\n",
              "      <td>0</td>\n",
              "      <td>0</td>\n",
              "      <td>0</td>\n",
              "      <td>0</td>\n",
              "      <td>0</td>\n",
              "      <td>0</td>\n",
              "      <td>0</td>\n",
              "      <td>0</td>\n",
              "      <td>0</td>\n",
              "      <td>0</td>\n",
              "      <td>0</td>\n",
              "      <td>0</td>\n",
              "      <td>0</td>\n",
              "      <td>0</td>\n",
              "      <td>1</td>\n",
              "      <td>0</td>\n",
              "    </tr>\n",
              "    <tr>\n",
              "      <th>2</th>\n",
              "      <td>CST_138443</td>\n",
              "      <td>50</td>\n",
              "      <td>0.0</td>\n",
              "      <td>0</td>\n",
              "      <td>1.0</td>\n",
              "      <td>149419.28</td>\n",
              "      <td>1210.0</td>\n",
              "      <td>3.0</td>\n",
              "      <td>0.0</td>\n",
              "      <td>21611.01</td>\n",
              "      <td>25187.80</td>\n",
              "      <td>71</td>\n",
              "      <td>528.0</td>\n",
              "      <td>2</td>\n",
              "      <td>0</td>\n",
              "      <td>0</td>\n",
              "      <td>0</td>\n",
              "      <td>0</td>\n",
              "      <td>0</td>\n",
              "      <td>0</td>\n",
              "      <td>0</td>\n",
              "      <td>0</td>\n",
              "      <td>0</td>\n",
              "      <td>0</td>\n",
              "      <td>0</td>\n",
              "      <td>0</td>\n",
              "      <td>0</td>\n",
              "      <td>0</td>\n",
              "      <td>0</td>\n",
              "      <td>0</td>\n",
              "      <td>0</td>\n",
              "      <td>0</td>\n",
              "      <td>0</td>\n",
              "      <td>1</td>\n",
              "      <td>0</td>\n",
              "    </tr>\n",
              "    <tr>\n",
              "      <th>3</th>\n",
              "      <td>CST_123812</td>\n",
              "      <td>30</td>\n",
              "      <td>0.0</td>\n",
              "      <td>0</td>\n",
              "      <td>1.0</td>\n",
              "      <td>160437.54</td>\n",
              "      <td>503.0</td>\n",
              "      <td>2.0</td>\n",
              "      <td>1.0</td>\n",
              "      <td>28990.76</td>\n",
              "      <td>29179.39</td>\n",
              "      <td>9</td>\n",
              "      <td>815.0</td>\n",
              "      <td>0</td>\n",
              "      <td>0</td>\n",
              "      <td>0</td>\n",
              "      <td>0</td>\n",
              "      <td>0</td>\n",
              "      <td>0</td>\n",
              "      <td>0</td>\n",
              "      <td>0</td>\n",
              "      <td>0</td>\n",
              "      <td>0</td>\n",
              "      <td>0</td>\n",
              "      <td>1</td>\n",
              "      <td>0</td>\n",
              "      <td>0</td>\n",
              "      <td>0</td>\n",
              "      <td>0</td>\n",
              "      <td>0</td>\n",
              "      <td>0</td>\n",
              "      <td>0</td>\n",
              "      <td>0</td>\n",
              "      <td>0</td>\n",
              "      <td>0</td>\n",
              "    </tr>\n",
              "    <tr>\n",
              "      <th>4</th>\n",
              "      <td>CST_144450</td>\n",
              "      <td>52</td>\n",
              "      <td>0.0</td>\n",
              "      <td>1</td>\n",
              "      <td>0.0</td>\n",
              "      <td>233480.37</td>\n",
              "      <td>157.0</td>\n",
              "      <td>2.0</td>\n",
              "      <td>1.0</td>\n",
              "      <td>54213.72</td>\n",
              "      <td>82331.82</td>\n",
              "      <td>82</td>\n",
              "      <td>613.0</td>\n",
              "      <td>1</td>\n",
              "      <td>1</td>\n",
              "      <td>1</td>\n",
              "      <td>0</td>\n",
              "      <td>0</td>\n",
              "      <td>0</td>\n",
              "      <td>0</td>\n",
              "      <td>0</td>\n",
              "      <td>0</td>\n",
              "      <td>0</td>\n",
              "      <td>0</td>\n",
              "      <td>1</td>\n",
              "      <td>0</td>\n",
              "      <td>0</td>\n",
              "      <td>0</td>\n",
              "      <td>0</td>\n",
              "      <td>0</td>\n",
              "      <td>0</td>\n",
              "      <td>0</td>\n",
              "      <td>0</td>\n",
              "      <td>0</td>\n",
              "      <td>0</td>\n",
              "    </tr>\n",
              "  </tbody>\n",
              "</table>\n",
              "</div>"
            ],
            "text/plain": [
              "  customer_id  ...  occupation_type_Waiters/barmen staff\n",
              "0  CST_142525  ...                                     0\n",
              "1  CST_129215  ...                                     0\n",
              "2  CST_138443  ...                                     0\n",
              "3  CST_123812  ...                                     0\n",
              "4  CST_144450  ...                                     0\n",
              "\n",
              "[5 rows x 35 columns]"
            ]
          },
          "metadata": {},
          "execution_count": 51
        }
      ]
    },
    {
      "cell_type": "code",
      "metadata": {
        "id": "d2y6mwYilHsk"
      },
      "source": [
        ""
      ],
      "execution_count": null,
      "outputs": []
    },
    {
      "cell_type": "markdown",
      "metadata": {
        "id": "kYcJnohk-7OB"
      },
      "source": [
        "#Train-Test Split of features and target dataset\n"
      ]
    },
    {
      "cell_type": "code",
      "metadata": {
        "id": "Y1NxbYUP_N2v"
      },
      "source": [
        "from sklearn.preprocessing import StandardScaler\n",
        "from keras.models import Sequential\n",
        "from keras.layers import Dense"
      ],
      "execution_count": null,
      "outputs": []
    },
    {
      "cell_type": "code",
      "metadata": {
        "id": "QsPa46OUkLuy"
      },
      "source": [
        "X_train=Train_df2[features_list][:34145]\n",
        "X_val=Train_df2[features_list][34145:]\n",
        "y_train=Train_df2['credit_card_default'][:34145]\n",
        "y_val=Train_df2['credit_card_default'][34145:]\n",
        "X_test=Test_df2[features_list]\n"
      ],
      "execution_count": null,
      "outputs": []
    },
    {
      "cell_type": "code",
      "metadata": {
        "colab": {
          "base_uri": "https://localhost:8080/"
        },
        "id": "osOFDLxXJU3P",
        "outputId": "6d34988b-c7ec-4e5e-f089-9dcd372e302a"
      },
      "source": [
        "print(X_train.shape)\n",
        "print(y_train.shape)\n",
        "print(X_val.shape)\n",
        "print(y_val.shape)"
      ],
      "execution_count": null,
      "outputs": [
        {
          "output_type": "stream",
          "name": "stdout",
          "text": [
            "(34145, 34)\n",
            "(34145,)\n",
            "(11383, 34)\n",
            "(11383,)\n"
          ]
        }
      ]
    },
    {
      "cell_type": "code",
      "metadata": {
        "colab": {
          "base_uri": "https://localhost:8080/"
        },
        "id": "MSnvKemd_LDq",
        "outputId": "d9bf82a0-a7ab-4465-c89a-ed35ffd36e05"
      },
      "source": [
        "X_test.shape"
      ],
      "execution_count": null,
      "outputs": [
        {
          "output_type": "execute_result",
          "data": {
            "text/plain": [
              "(11383, 34)"
            ]
          },
          "metadata": {},
          "execution_count": 62
        }
      ]
    },
    {
      "cell_type": "code",
      "metadata": {
        "id": "LPzlROqN_Su7"
      },
      "source": [
        "scale = StandardScaler()\n",
        "X_train = scale.fit_transform(X_train)\n",
        "X_val= scale.fit_transform(X_val)"
      ],
      "execution_count": null,
      "outputs": []
    },
    {
      "cell_type": "code",
      "metadata": {
        "id": "56xPGEW_C0eI"
      },
      "source": [
        "X_test=scale.fit_transform(X_test)\n"
      ],
      "execution_count": null,
      "outputs": []
    },
    {
      "cell_type": "markdown",
      "metadata": {
        "id": "8CYoM2gSB_4H"
      },
      "source": [
        "#Build model"
      ]
    },
    {
      "cell_type": "code",
      "metadata": {
        "colab": {
          "base_uri": "https://localhost:8080/"
        },
        "id": "_-kwPcR6frRK",
        "outputId": "1149721f-7503-4696-c8dc-6970f08d055d"
      },
      "source": [
        "from sklearn.linear_model import LogisticRegression\n",
        "from sklearn import metrics\n",
        "classifier = LogisticRegression(random_state =0)\n",
        "classifier.fit(X_train, y_train)\n",
        "y_pred = classifier.predict(X_test)\n",
        "y_pred_val=classifier.predict(X_val)\n",
        "\n",
        "print(\"f1_score\\t:\", 100*(metrics.f1_score(y_val,y_pred_val,average='macro')))\n",
        "print(\"recall_score\\t:\",100*(metrics.recall_score(y_val,y_pred_val,average='macro')))\n",
        "print(\"precision_score\\t:\",100*(metrics.precision_score(y_val,y_pred_val,average='macro')))\n"
      ],
      "execution_count": null,
      "outputs": [
        {
          "output_type": "stream",
          "name": "stdout",
          "text": [
            "f1_score\t: 92.86368882864913\n",
            "recall_score\t: 89.0884311045524\n",
            "precision_score\t: 97.66476913345983\n"
          ]
        }
      ]
    },
    {
      "cell_type": "code",
      "metadata": {
        "colab": {
          "base_uri": "https://localhost:8080/",
          "height": 206
        },
        "id": "LpeC6ag3gWfP",
        "outputId": "df6aaec2-6e63-41f5-d7bd-f7e0b8028884"
      },
      "source": [
        "result=[]\n",
        "for i in range(11383):\n",
        "    id=Test_df2['customer_id'][i]\n",
        "    result.append([id,y_pred[i]])\n",
        "\n",
        "result_df=pd.DataFrame()\n",
        "result_df['customer_id']=[i[0] for i in result]\n",
        "result_df['credit_card_default']=[i[1] for i in result]\n",
        "result_df.to_csv(\"result_LR.csv\",index=False)\n",
        "result_df.head()\n"
      ],
      "execution_count": null,
      "outputs": [
        {
          "output_type": "execute_result",
          "data": {
            "text/html": [
              "<div>\n",
              "<style scoped>\n",
              "    .dataframe tbody tr th:only-of-type {\n",
              "        vertical-align: middle;\n",
              "    }\n",
              "\n",
              "    .dataframe tbody tr th {\n",
              "        vertical-align: top;\n",
              "    }\n",
              "\n",
              "    .dataframe thead th {\n",
              "        text-align: right;\n",
              "    }\n",
              "</style>\n",
              "<table border=\"1\" class=\"dataframe\">\n",
              "  <thead>\n",
              "    <tr style=\"text-align: right;\">\n",
              "      <th></th>\n",
              "      <th>customer_id</th>\n",
              "      <th>credit_card_default</th>\n",
              "    </tr>\n",
              "  </thead>\n",
              "  <tbody>\n",
              "    <tr>\n",
              "      <th>0</th>\n",
              "      <td>CST_142525</td>\n",
              "      <td>0</td>\n",
              "    </tr>\n",
              "    <tr>\n",
              "      <th>1</th>\n",
              "      <td>CST_129215</td>\n",
              "      <td>0</td>\n",
              "    </tr>\n",
              "    <tr>\n",
              "      <th>2</th>\n",
              "      <td>CST_138443</td>\n",
              "      <td>1</td>\n",
              "    </tr>\n",
              "    <tr>\n",
              "      <th>3</th>\n",
              "      <td>CST_123812</td>\n",
              "      <td>0</td>\n",
              "    </tr>\n",
              "    <tr>\n",
              "      <th>4</th>\n",
              "      <td>CST_144450</td>\n",
              "      <td>1</td>\n",
              "    </tr>\n",
              "  </tbody>\n",
              "</table>\n",
              "</div>"
            ],
            "text/plain": [
              "  customer_id  credit_card_default\n",
              "0  CST_142525                    0\n",
              "1  CST_129215                    0\n",
              "2  CST_138443                    1\n",
              "3  CST_123812                    0\n",
              "4  CST_144450                    1"
            ]
          },
          "metadata": {},
          "execution_count": 66
        }
      ]
    },
    {
      "cell_type": "markdown",
      "metadata": {
        "id": "R6658mIw7Q_z"
      },
      "source": [
        "#SVM"
      ]
    },
    {
      "cell_type": "code",
      "metadata": {
        "colab": {
          "base_uri": "https://localhost:8080/"
        },
        "id": "WMmADHG07P2r",
        "outputId": "49d03cc7-c4ab-478f-aa39-41b318664246"
      },
      "source": [
        "from sklearn import svm\n",
        "s = svm.SVC(kernel=\"linear\")\n",
        "s.fit(X_train,y_train)\n",
        "y_pred_val=s.predict(X_val)\n",
        "y_pred=s.predict(X_test)\n",
        "\n",
        "print(\"SVM model accuracy(in %):\", metrics.accuracy_score(y_val, y_pred)*100)\n"
      ],
      "execution_count": null,
      "outputs": [
        {
          "output_type": "stream",
          "name": "stdout",
          "text": [
            "SVM model accuracy(in %): 86.68189405253447\n"
          ]
        }
      ]
    },
    {
      "cell_type": "code",
      "metadata": {
        "colab": {
          "base_uri": "https://localhost:8080/"
        },
        "id": "sd9LtltD7bVb",
        "outputId": "7d576c35-a410-4ee0-99ae-268eb892f4b5"
      },
      "source": [
        "print(\"f1_score\\t:\", 100*(metrics.f1_score(y_val,y_pred_val,average='macro')))\n",
        "print(\"recall_score\\t:\",100*(metrics.recall_score(y_val,y_pred_val,average='macro')))\n",
        "print(\"precision_score\\t:\",100*(metrics.precision_score(y_val,y_pred_val,average='macro')))\n"
      ],
      "execution_count": null,
      "outputs": [
        {
          "output_type": "stream",
          "name": "stdout",
          "text": [
            "f1_score\t: 92.73724825603782\n",
            "recall_score\t: 88.14968814968816\n",
            "precision_score\t: 98.92947694619212\n"
          ]
        }
      ]
    },
    {
      "cell_type": "code",
      "metadata": {
        "colab": {
          "base_uri": "https://localhost:8080/",
          "height": 206
        },
        "id": "_teDCr8P8K8G",
        "outputId": "3ae846a0-7a5d-423f-f4c2-7a57fceea8aa"
      },
      "source": [
        "result=[]\n",
        "for i in range(11383):\n",
        "    id=Test_df2['customer_id'][i]\n",
        "    result.append([id,y_pred[i]])\n",
        "\n",
        "result_df=pd.DataFrame()\n",
        "result_df['customer_id']=[i[0] for i in result]\n",
        "result_df['credit_card_default']=[i[1] for i in result]\n",
        "result_df.to_csv(\"result_SVM.csv\",index=False)\n",
        "result_df.head()\n"
      ],
      "execution_count": null,
      "outputs": [
        {
          "output_type": "execute_result",
          "data": {
            "text/html": [
              "<div>\n",
              "<style scoped>\n",
              "    .dataframe tbody tr th:only-of-type {\n",
              "        vertical-align: middle;\n",
              "    }\n",
              "\n",
              "    .dataframe tbody tr th {\n",
              "        vertical-align: top;\n",
              "    }\n",
              "\n",
              "    .dataframe thead th {\n",
              "        text-align: right;\n",
              "    }\n",
              "</style>\n",
              "<table border=\"1\" class=\"dataframe\">\n",
              "  <thead>\n",
              "    <tr style=\"text-align: right;\">\n",
              "      <th></th>\n",
              "      <th>customer_id</th>\n",
              "      <th>credit_card_default</th>\n",
              "    </tr>\n",
              "  </thead>\n",
              "  <tbody>\n",
              "    <tr>\n",
              "      <th>0</th>\n",
              "      <td>CST_142525</td>\n",
              "      <td>0</td>\n",
              "    </tr>\n",
              "    <tr>\n",
              "      <th>1</th>\n",
              "      <td>CST_129215</td>\n",
              "      <td>0</td>\n",
              "    </tr>\n",
              "    <tr>\n",
              "      <th>2</th>\n",
              "      <td>CST_138443</td>\n",
              "      <td>1</td>\n",
              "    </tr>\n",
              "    <tr>\n",
              "      <th>3</th>\n",
              "      <td>CST_123812</td>\n",
              "      <td>0</td>\n",
              "    </tr>\n",
              "    <tr>\n",
              "      <th>4</th>\n",
              "      <td>CST_144450</td>\n",
              "      <td>1</td>\n",
              "    </tr>\n",
              "  </tbody>\n",
              "</table>\n",
              "</div>"
            ],
            "text/plain": [
              "  customer_id  credit_card_default\n",
              "0  CST_142525                    0\n",
              "1  CST_129215                    0\n",
              "2  CST_138443                    1\n",
              "3  CST_123812                    0\n",
              "4  CST_144450                    1"
            ]
          },
          "metadata": {},
          "execution_count": 69
        }
      ]
    }
  ]
}